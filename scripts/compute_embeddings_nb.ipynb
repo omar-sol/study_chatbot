{
 "cells": [
  {
   "cell_type": "code",
   "execution_count": null,
   "metadata": {},
   "outputs": [],
   "source": [
    "import json\n",
    "\n",
    "def load_jsonl(file_path):\n",
    "    data = []\n",
    "    with open(file_path, 'r') as file:\n",
    "        for line in file:\n",
    "            data.append(json.loads(line))\n",
    "    return data\n",
    "\n",
    "COURS = \"ATS800\"\n",
    "file_path = f'../data/{COURS}/embeds/summaries_audio_{COURS}.jsonl'  # Transcripts\n",
    "contents = load_jsonl(file_path)\n",
    "print(len(contents))\n",
    "print(contents[0])\n",
    "print(type(contents[0]))\n",
    "\n",
    "text_contents = [slide['content'] for slide in contents]\n",
    "print(len(text_contents))\n",
    "print(type(text_contents))\n",
    "print(type(text_contents[0]))\n",
    "print(text_contents[0])\n"
   ]
  },
  {
   "cell_type": "code",
   "execution_count": null,
   "metadata": {},
   "outputs": [],
   "source": [
    "import os\n",
    "import cohere\n",
    "import numpy as np\n",
    "from dotenv import load_dotenv\n",
    "\n",
    "load_dotenv()\n",
    "model_name = \"embed-multilingual-v3.0\"\n",
    "api_key: str | None = os.getenv(\"COHERE_API_KEY\")\n",
    "input_type_embed = \"search_document\"\n",
    "\n",
    "# Now we'll set up the cohere client.\n",
    "if api_key is None:\n",
    "    raise ValueError(\"Please set the COHERE_API_KEY environment variable.\")\n",
    "co = cohere.Client(api_key)\n",
    "\n",
    "# Split the text_contents list into chunks of 96 texts\n",
    "chunk_size = 96\n",
    "text_chunks = [text_contents[i:i+chunk_size] for i in range(0, len(text_contents), chunk_size)]\n",
    "\n",
    "# Initialize an empty list to store the embeddings\n",
    "embeds = []\n",
    "\n",
    "# Iterate over each chunk and make the API request\n",
    "for chunk in text_chunks:\n",
    "    chunk_embeds: list[list[float]] = co.embed(\n",
    "        texts=chunk,\n",
    "        model=model_name,\n",
    "        input_type=input_type_embed\n",
    "    ).embeddings # type: ignore\n",
    "    embeds.extend(chunk_embeds)\n",
    "\n",
    "print(type(embeds), len(embeds), len(embeds[0]))\n",
    "array_embeds = np.array(embeds)\n",
    "print(array_embeds.shape)\n",
    "\n",
    "np.save(f'../data/{COURS}/embeds/embeddings_audio_{COURS}.npy', array_embeds)"
   ]
  }
 ],
 "metadata": {
  "kernelspec": {
   "display_name": "env",
   "language": "python",
   "name": "python3"
  },
  "language_info": {
   "codemirror_mode": {
    "name": "ipython",
    "version": 3
   },
   "file_extension": ".py",
   "mimetype": "text/x-python",
   "name": "python",
   "nbconvert_exporter": "python",
   "pygments_lexer": "ipython3",
   "version": "3.11.8"
  }
 },
 "nbformat": 4,
 "nbformat_minor": 2
}
