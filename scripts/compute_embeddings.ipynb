{
 "cells": [
  {
   "cell_type": "code",
   "execution_count": 1,
   "metadata": {},
   "outputs": [
    {
     "name": "stdout",
     "output_type": "stream",
     "text": [
      "90\n",
      "90\n",
      "<class 'list'>\n",
      "La diapositive présente les informations suivantes :\n",
      "\n",
      "- Il s'agit de la première semaine (\"Semaine 1\") d'un cours, qui est dédié à la présentation du cours en question.\n",
      "- Le titre du cours est \"INF889G - Vision par ordinateur\".\n",
      "- Le nom de l'intervenant ou du responsable du cours est \"Joël Lefebvre\".\n",
      "- L'institution affiliée au cours est l'UQAM, qui pourrait représenter l'Université du Québec à Montréal.\n",
      "- Le cours se déroule durant la session \"Hiver 2024\".\n",
      "\n",
      "Résumé : La diapositive introduit la première semaine d'un cours de vision par ordinateur, intitulé INF889G, dirigé par Joël Lefebvre à l'UQAM pour la session de l'hiver 2024.\n"
     ]
    }
   ],
   "source": [
    "import json\n",
    "\n",
    "def load_jsonl(file_path):\n",
    "    data = []\n",
    "    with open(file_path, 'r') as file:\n",
    "        for line in file:\n",
    "            # Parse each line as a JSON object\n",
    "            data.append(json.loads(line))\n",
    "    return data\n",
    "\n",
    "# Usage\n",
    "file_path = 'output.jsonl'  # Replace with the path to your JSONL file\n",
    "contents = load_jsonl(file_path)\n",
    "print(len(contents))\n",
    "\n",
    "text_contents = [slide['content'] for slide in contents]\n",
    "print(len(text_contents))\n",
    "print(type(text_contents))\n",
    "print(text_contents[0])\n"
   ]
  },
  {
   "cell_type": "code",
   "execution_count": 2,
   "metadata": {},
   "outputs": [
    {
     "name": "stdout",
     "output_type": "stream",
     "text": [
      "<class 'list'> 90 1024\n",
      "(90, 1024)\n"
     ]
    }
   ],
   "source": [
    "import os\n",
    "import cohere\n",
    "import numpy as np\n",
    "from dotenv import load_dotenv\n",
    "\n",
    "load_dotenv()\n",
    "\n",
    "model_name = \"embed-multilingual-v3.0\"\n",
    "api_key: str | None = os.getenv(\"COHERE_API_KEY\")\n",
    "input_type_embed = \"search_document\"\n",
    "\n",
    "# Now we'll set up the cohere client.\n",
    "if api_key is None:\n",
    "    raise ValueError(\"Please set the COHERE_API_KEY environment variable.\")\n",
    "co = cohere.Client(api_key)\n",
    "\n",
    "# Get the embeddings\n",
    "embeds: list[list[float]] = co.embed(\n",
    "    texts=text_contents, model=model_name, input_type=input_type_embed\n",
    ").embeddings\n",
    "\n",
    "# print(embeds)\n",
    "print(type(embeds), len(embeds), len(embeds[0]))\n",
    "array_embeds = np.array(embeds)\n",
    "print(array_embeds.shape)\n",
    "np.save('embeddings.npy', array_embeds)"
   ]
  },
  {
   "cell_type": "code",
   "execution_count": 3,
   "metadata": {},
   "outputs": [],
   "source": [
    "import numpy as np\n",
    "\n",
    "def cosine_similarity_matrix(vectors, query_vec):\n",
    "    dot_product = np.dot(vectors, query_vec)\n",
    "    \n",
    "    norms_vectors = np.linalg.norm(vectors, axis=1)\n",
    "    norm_query_vec = np.linalg.norm(query_vec)\n",
    "    \n",
    "    if norm_query_vec == 0 or np.any(norms_vectors == 0):\n",
    "        raise ValueError(\"Cosine similarity is not defined when one or both vectors are zero vectors.\")\n",
    "    \n",
    "    similarity = dot_product / (norms_vectors * norm_query_vec)\n",
    "    return similarity\n"
   ]
  },
  {
   "cell_type": "code",
   "execution_count": 4,
   "metadata": {},
   "outputs": [
    {
     "name": "stdout",
     "output_type": "stream",
     "text": [
      "0.5705430007241215 {'module': 'data/images', 'slide_number': 'page_10.png', 'content': 'La diapositive présente les \"Modalités d\\'évaluation\" pour un cours, indiquant les pourcentages attribués à chaque élément d\\'évaluation ainsi que leurs échéances respectives. Les évaluations sont réparties comme suit :\\n\\n- Devoir 1 : 15% de la note totale, pour la semaine 4.\\n- Devoir 2 : 15% de la note totale, pour la semaine 7.\\n- Examen intra : 25% de la note totale, pour la semaine 9.\\n- Devoir 3 : 15% de la note totale, pour la semaine 13.\\n- Projet : 30% de la note totale, pour la semaine 17.\\n\\nLe projet est décrit comme étant divisé en trois parties et des détails supplémentaires sont à venir. Les trois parties sont :\\n\\n1. Proposition de projet : 5%, semaine 9.\\n2. Rapport : 15%, semaine 17.\\n3. Présentation : 10%, semaine 17.\\n\\nEn résumé, la diapositive fournit les pourcentages et les délais pour chaque composant d\\'évaluation d\\'un cours, et détaille la structure de l\\'évaluation du projet.'}\n",
      "0.5153516254017838 {'module': 'data/images', 'slide_number': 'page_12.png', 'content': \"La diapositive présente les règles concernant le seuil de passage pour un cours. Il est expliqué que l'étudiant ou l'étudiante doit obtenir une note cumulative et pondérée aux examens supérieure ou égale à 50%, et également obtenir une moyenne générale pondérée (devoirs et examen) supérieure ou égale à 60%. Si l'étudiant ne répond pas à ces critères, il recevra automatiquement la mention échec pour le cours.\\n\\nRésumé : Pour réussir le cours, il faut une note d'examens d'au moins 50% et une moyenne globale d'au moins 60%, sinon l'étudiant échoue automatiquement.\"}\n",
      "0.5103788854138975 {'module': 'data/images', 'slide_number': 'page_14.png', 'content': \"La diapositive présente les modalités de travaux pratiques pour un cours. Voici les points clés :\\n\\n1. La remise des travaux pratiques doit se faire électroniquement sur la plateforme Moodle.\\n2. Des détails techniques seront donnés en classe par le professeur.\\n3. Il est possible de soumettre plusieurs versions du travail pratique, mais seule la plus récente sera prise en compte.\\n4. Un retard dans la remise du travail pratique entraine une pénalité de 10% par jour de retard sur la note, et après 5 jours de retard, la remise du travail n'est plus acceptée.\\n5. Il y a une exigence de qualité de français où chaque faute réduira la note du travail pratique de 1%, jusqu'à un maximum de 10 % de réduction.\\n\\nEn résumé, la diapositive informe les étudiants sur les exigences et pénalités associées à la remise des travaux pratiques, l'importance de respecter les délais et la qualité linguistique des travaux soumis.\"}\n",
      "0.4675032224541549 {'module': 'data/images', 'slide_number': 'page_3.png', 'content': 'La diapositive montre le titre de la première section d\\'une présentation, qui est intitulée \"Présentation du plan de cours\". Cela suggère que le contenu de cette section sera consacré à expliquer le plan du cours aux auditeurs, probablement en détaillant les sujets qui seront couverts, la structure du cours, les méthodes d\\'évaluation, et peut-être les attentes envers les étudiants. Le slide indique également que c\\'est la troisième diapositive d\\'une série, comme on peut le voir par le numéro \"3/90\" dans le coin inférieur droit, ce qui implique que la présentation est relativement longue et détaillée.\\n\\nEn résumé, cette diapositive est utilisée pour introduire la section qui va décrire le plan du cours aux participants.'}\n",
      "0.4569304761925812 {'module': 'data/images', 'slide_number': 'page_11.png', 'content': 'La diapositive présente des informations concernant la \"Note finale\" pour un certain contexte, probablement celui d\\'un cours ou d\\'une formation. Elle liste ainsi trois points importants :\\n\\n1. La note finale, qui est exprimée en lettre (comme A+, A, etc.), sera attribuée en fonction de l\\'atteinte des objectifs spécifiés à travers les évaluations.\\n2. La distribution des résultats dans le groupe pourrait être utilisée, suggérant que la performance relative au sein du groupe pourrait influencer le système de notation.\\n3. Il est clairement indiqué qu\\'aucune autre opportunité, comme un travail supplémentaire ou toute autre action, ne permettra d\\'augmenter le nombre de points au-delà de ceux obtenus via les évaluations prévues.\\n\\nEn résumé, la diapositive communique les critères d\\'attribution de la note finale pour un cours, en mettant l\\'accent sur l\\'accomplissement des objectifs évaluatifs, la possibilité d\\'une notation relative et l\\'absence d\\'options pour améliorer la note au-delà des évaluations standards.'}\n",
      "0.4547239360016788 {'module': 'data/images', 'slide_number': 'page_38.png', 'content': 'La diapositive montre les références utilisées pour une présentation ou un document, en particulier pour le chapitre 1 intitulé \"Introduction\". Les crédits sont attribués à deux personnes : Steve Seitz pour le cours CSE576 de vision par ordinateur (Computer Vision) à l’Université de Washington, Printemps 2021, et Joseph Redmon pour le cours CSE455 de vision par ordinateur à la même université et également pour le Printemps 2021.\\n\\nLe contenu indique également un ouvrage de référence (probablement un livre ou une publication) : (Szeliski, 2021) pour le Chapitre 1 : Introduction.\\n\\nEn résumé, cette diapositive liste les sources utilisées pour la création d\\'une partie de contenu académique, ce qui inclut des cours universitaires en vision par ordinateur et une publication spécifique de l\\'année 2021.'}\n",
      "0.448837883468643 {'module': 'data/images', 'slide_number': 'page_79.png', 'content': 'La diapositive montre le titre de la section 7 d\\'une présentation, intitulée \"Survol du cours\". Cette diapositive suggère qu\\'une vue d\\'ensemble ou un résumé du contenu du cours sera probablement présenté. La diapositive indique également que c\\'est la 79ème sur 90 et appartient à un ensemble nommé \"Semaine 1: Présentation du cours\". Le nom en bas de page indique que l\\'auteur de la présentation pourrait être une personne nommée Joel Lefebvre, affilié à l\\'UQAM (Université du Québec À Montréal), et la date est indiquée comme étant Hiver 2004.\\n\\nEn résumé, il s\\'agit d\\'une diapositive introductive à une section qui va offrir un aperçu général du matériel couvert dans un cours à l\\'UQAM, donné pendant le semestre d\\'hiver 2004.'}\n",
      "0.4394624205695125 {'module': 'data/images', 'slide_number': 'page_15.png', 'content': 'Cette diapositive présente les instructions concernant l\\'Entente d\\'évaluation pour un cours. Voici les points clés :\\n\\n- Il doit y avoir une discussion et un vote sur l\\'entente.\\n- La date limite pour le processus est fixée à deux semaines après le début de la session.\\n- La signature de l\\'entente se fait par courriel, en utilisant l\\'adresse fournie (exemple : @courrier.uqam.ca) et doit être envoyée à l\\'adresse lefebvre.joel@uqam.ca.\\n- Deux volontaires sont requis pour cette signature par courriel.\\n\\nUn gabarit de courriel est proposé pour faciliter cette procédure avec les éléments suivants :\\n- L\\'objet du courriel doit être le sigle et le groupe du cours suivi de \"– Acceptation de l\\'Entente d\\'évaluation\".\\n- Le contenu du courriel doit être une confirmation que l\\'entente a été conclue pour le cours concerné et que ce courriel tient lieu de signature de la part de l’étudiant ou de l\\'étudiante.\\n\\nEn résumé, la diapositive fournit des directives sur la manière de finaliser l\\'Entente d\\'évaluation pour un cours, au moyen d\\'une discussion collective, d\\'un vote, d\\'un processus de signature électronique avec une date limite spécifiée, et en utilisant un gabarit de courriel pré-défini.'}\n",
      "\n",
      "\n",
      "Le devoir 1 vaut 15% de la note totale du cours, comme indiqué sur la diapositive présentant les \"Modalités d'évaluation\" pour le cours (page_10.png). La répartition des évaluations est détaillée sur cette diapositive, et il est explicitement mentionné que le Devoir 1 compte pour 15% de la note totale.\n",
      "\n",
      "Source: Module \"Modalités d'évaluation\" - Slide page_10.png\n"
     ]
    }
   ],
   "source": [
    "import os\n",
    "import cohere\n",
    "from dotenv import load_dotenv\n",
    "\n",
    "load_dotenv()\n",
    "\n",
    "model_name = \"embed-multilingual-v3.0\"\n",
    "api_key: str | None = os.getenv(\"COHERE_API_KEY\")\n",
    "input_type_embed = \"search_query\"\n",
    "\n",
    "QUERY=\"Le devoir 1 vaut pour combien de pourcentage?\"\n",
    "\n",
    "# Now we'll set up the cohere client.\n",
    "if api_key is None:\n",
    "    raise ValueError(\"Please set the COHERE_API_KEY environment variable.\")\n",
    "co = cohere.Client(api_key)\n",
    "\n",
    "# Get the embeddings\n",
    "query_embed: list[list[float]] = co.embed(\n",
    "    texts=[QUERY], model=model_name, input_type=input_type_embed\n",
    ").embeddings\n",
    "query_array = np.array(query_embed)\n",
    "query_array = query_array.reshape(-1)\n",
    "\n",
    "embeds_dataset = np.load('embeddings.npy')\n",
    "\n",
    "similarity_results = np.zeros((embeds_dataset.shape[0],), dtype=np.float32)\n",
    "try:\n",
    "    similarity_results = cosine_similarity_matrix(embeds_dataset, query_array)\n",
    "except ValueError as e:\n",
    "    print(e)\n",
    "\n",
    "sorted_indices = np.argsort(similarity_results)[::-1]\n",
    "relevant_contents = [contents[i] for i in sorted_indices[:5]]\n",
    "for i in range(8):\n",
    "    print(similarity_results[sorted_indices[i]], contents[sorted_indices[i]])\n",
    "\n",
    "# -----------------------------------------------\n",
    "from openai import OpenAI\n",
    "def extract_tags_function_call(input_prompt: str, model: str, max_retries: int = 1):\n",
    "    client = OpenAI()\n",
    "    try:\n",
    "        extracted_details = client.chat.completions.create(\n",
    "            model=model,\n",
    "            messages=[\n",
    "                {\n",
    "                    \"role\": \"system\",\n",
    "                    \"content\": \"You are a world class teacher in the field of management and supervision of teams working on projects. You will answer questions asked by students. You will use theory provided to you in the form of slides.\",\n",
    "                },\n",
    "                {\n",
    "                    \"role\": \"user\",\n",
    "                    \"content\": input_prompt,\n",
    "                },\n",
    "            ],\n",
    "            max_tokens=1000,\n",
    "        )\n",
    "        return extracted_details\n",
    "\n",
    "    except Exception as e:\n",
    "        print(e)\n",
    "        return f\"Error generating post with the OpenAI API: {e}\"\n",
    "    \n",
    "input_prompt = f\"REMEMBER TO USE THE THEORY GIVEN TO YOU. But not all of it might be relevant to the question. Here is the student's question: {QUERY}\\n, and the relevant theory: {relevant_contents}. Give a clear answer that helps the student understand the course material. Cite the sources you used to answer the question.\"\n",
    "answer = extract_tags_function_call(input_prompt, \"gpt-3.5-turbo-1106\")\n",
    "print('\\n')\n",
    "print(answer.choices[0].message.content)"
   ]
  }
 ],
 "metadata": {
  "kernelspec": {
   "display_name": "env",
   "language": "python",
   "name": "python3"
  },
  "language_info": {
   "codemirror_mode": {
    "name": "ipython",
    "version": 3
   },
   "file_extension": ".py",
   "mimetype": "text/x-python",
   "name": "python",
   "nbconvert_exporter": "python",
   "pygments_lexer": "ipython3",
   "version": "3.11.7"
  }
 },
 "nbformat": 4,
 "nbformat_minor": 2
}
